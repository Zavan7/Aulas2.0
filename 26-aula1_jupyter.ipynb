{
 "cells": [
  {
   "cell_type": "markdown",
   "id": "ff1f50f4-3696-4872-8184-cee3fcf0854e",
   "metadata": {},
   "source": [
    "# Que maneiro\n",
    "\n",
    "Estou testando `a`"
   ]
  },
  {
   "cell_type": "code",
   "execution_count": 3,
   "id": "5017fb40-59d4-49f1-95bb-169a1224e05b",
   "metadata": {},
   "outputs": [
    {
     "data": {
      "text/plain": [
       "2"
      ]
     },
     "execution_count": 3,
     "metadata": {},
     "output_type": "execute_result"
    }
   ],
   "source": [
    "a = 2\n",
    "a"
   ]
  },
  {
   "cell_type": "code",
   "execution_count": null,
   "id": "f71f3aa7-f415-4c4b-8565-96bebd158e49",
   "metadata": {},
   "outputs": [],
   "source": []
  }
 ],
 "metadata": {
  "kernelspec": {
   "display_name": "Python 3 (ipykernel)",
   "language": "python",
   "name": "python3"
  },
  "language_info": {
   "codemirror_mode": {
    "name": "ipython",
    "version": 3
   },
   "file_extension": ".py",
   "mimetype": "text/x-python",
   "name": "python",
   "nbconvert_exporter": "python",
   "pygments_lexer": "ipython3",
   "version": "3.12.6"
  }
 },
 "nbformat": 4,
 "nbformat_minor": 5
}
